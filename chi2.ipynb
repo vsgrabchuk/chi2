{
 "cells": [
  {
   "cell_type": "code",
   "execution_count": 18,
   "metadata": {},
   "outputs": [],
   "source": [
    "import pandas as pd\n",
    "import numpy as np\n",
    "import scipy.stats as ss"
   ]
  },
  {
   "cell_type": "code",
   "execution_count": 19,
   "metadata": {},
   "outputs": [
    {
     "data": {
      "text/html": [
       "<div>\n",
       "<style scoped>\n",
       "    .dataframe tbody tr th:only-of-type {\n",
       "        vertical-align: middle;\n",
       "    }\n",
       "\n",
       "    .dataframe tbody tr th {\n",
       "        vertical-align: top;\n",
       "    }\n",
       "\n",
       "    .dataframe thead th {\n",
       "        text-align: right;\n",
       "    }\n",
       "</style>\n",
       "<table border=\"1\" class=\"dataframe\">\n",
       "  <thead>\n",
       "    <tr style=\"text-align: right;\">\n",
       "      <th></th>\n",
       "      <th>М</th>\n",
       "      <th>Ж</th>\n",
       "    </tr>\n",
       "  </thead>\n",
       "  <tbody>\n",
       "    <tr>\n",
       "      <th>Тормозят</th>\n",
       "      <td>20</td>\n",
       "      <td>15</td>\n",
       "    </tr>\n",
       "    <tr>\n",
       "      <th>Притормаживают</th>\n",
       "      <td>11</td>\n",
       "      <td>12</td>\n",
       "    </tr>\n",
       "    <tr>\n",
       "      <th>Не тормозят</th>\n",
       "      <td>7</td>\n",
       "      <td>9</td>\n",
       "    </tr>\n",
       "  </tbody>\n",
       "</table>\n",
       "</div>"
      ],
      "text/plain": [
       "                 М   Ж\n",
       "Тормозят        20  15\n",
       "Притормаживают  11  12\n",
       "Не тормозят      7   9"
      ]
     },
     "execution_count": 19,
     "metadata": {},
     "output_type": "execute_result"
    }
   ],
   "source": [
    "# Исходная таблица\n",
    "categorical_1 = ['Тормозят', 'Притормаживают', 'Не тормозят']\n",
    "categorical_2 = ['М', 'Ж']\n",
    "observed_df=pd.DataFrame(\n",
    "    data= \n",
    "    [\n",
    "        [20, 15], \n",
    "        [11, 12], \n",
    "        [7, 9]\n",
    "    ],\n",
    "    index=categorical_1,\n",
    "    columns=categorical_2\n",
    ")\n",
    "\n",
    "observed_df"
   ]
  },
  {
   "cell_type": "code",
   "execution_count": 20,
   "metadata": {
    "scrolled": true
   },
   "outputs": [
    {
     "data": {
      "text/html": [
       "<div>\n",
       "<style scoped>\n",
       "    .dataframe tbody tr th:only-of-type {\n",
       "        vertical-align: middle;\n",
       "    }\n",
       "\n",
       "    .dataframe tbody tr th {\n",
       "        vertical-align: top;\n",
       "    }\n",
       "\n",
       "    .dataframe thead th {\n",
       "        text-align: right;\n",
       "    }\n",
       "</style>\n",
       "<table border=\"1\" class=\"dataframe\">\n",
       "  <thead>\n",
       "    <tr style=\"text-align: right;\">\n",
       "      <th></th>\n",
       "      <th>М</th>\n",
       "      <th>Ж</th>\n",
       "      <th>row_sum</th>\n",
       "    </tr>\n",
       "  </thead>\n",
       "  <tbody>\n",
       "    <tr>\n",
       "      <th>Тормозят</th>\n",
       "      <td>20</td>\n",
       "      <td>15</td>\n",
       "      <td>35</td>\n",
       "    </tr>\n",
       "    <tr>\n",
       "      <th>Притормаживают</th>\n",
       "      <td>11</td>\n",
       "      <td>12</td>\n",
       "      <td>23</td>\n",
       "    </tr>\n",
       "    <tr>\n",
       "      <th>Не тормозят</th>\n",
       "      <td>7</td>\n",
       "      <td>9</td>\n",
       "      <td>16</td>\n",
       "    </tr>\n",
       "    <tr>\n",
       "      <th>col_sum</th>\n",
       "      <td>38</td>\n",
       "      <td>36</td>\n",
       "      <td>74</td>\n",
       "    </tr>\n",
       "  </tbody>\n",
       "</table>\n",
       "</div>"
      ],
      "text/plain": [
       "                 М   Ж  row_sum\n",
       "Тормозят        20  15       35\n",
       "Притормаживают  11  12       23\n",
       "Не тормозят      7   9       16\n",
       "col_sum         38  36       74"
      ]
     },
     "execution_count": 20,
     "metadata": {},
     "output_type": "execute_result"
    }
   ],
   "source": [
    "# Расширенная таблица с суммами по строкам и столбцам\n",
    "observed_sum_df = observed_df.copy(deep=True)\n",
    "observed_sum_df['row_sum'] = observed_sum_df.sum(axis=1)\n",
    "observed_sum_df.loc['col_sum'] = observed_sum_df.sum(axis=0)\n",
    "\n",
    "observed_sum_df"
   ]
  },
  {
   "cell_type": "code",
   "execution_count": 21,
   "metadata": {},
   "outputs": [
    {
     "data": {
      "text/html": [
       "<div>\n",
       "<style scoped>\n",
       "    .dataframe tbody tr th:only-of-type {\n",
       "        vertical-align: middle;\n",
       "    }\n",
       "\n",
       "    .dataframe tbody tr th {\n",
       "        vertical-align: top;\n",
       "    }\n",
       "\n",
       "    .dataframe thead th {\n",
       "        text-align: right;\n",
       "    }\n",
       "</style>\n",
       "<table border=\"1\" class=\"dataframe\">\n",
       "  <thead>\n",
       "    <tr style=\"text-align: right;\">\n",
       "      <th></th>\n",
       "      <th>М</th>\n",
       "      <th>Ж</th>\n",
       "    </tr>\n",
       "  </thead>\n",
       "  <tbody>\n",
       "    <tr>\n",
       "      <th>Тормозят</th>\n",
       "      <td>17.972973</td>\n",
       "      <td>17.027027</td>\n",
       "    </tr>\n",
       "    <tr>\n",
       "      <th>Притормаживают</th>\n",
       "      <td>11.810811</td>\n",
       "      <td>11.189189</td>\n",
       "    </tr>\n",
       "    <tr>\n",
       "      <th>Не тормозят</th>\n",
       "      <td>8.216216</td>\n",
       "      <td>7.783784</td>\n",
       "    </tr>\n",
       "  </tbody>\n",
       "</table>\n",
       "</div>"
      ],
      "text/plain": [
       "                        М          Ж\n",
       "Тормозят        17.972973  17.027027\n",
       "Притормаживают  11.810811  11.189189\n",
       "Не тормозят      8.216216   7.783784"
      ]
     },
     "execution_count": 21,
     "metadata": {},
     "output_type": "execute_result"
    }
   ],
   "source": [
    "# Частоты по строкам и столбцам\n",
    "row_sum = observed_sum_df.row_sum[0:-1]\n",
    "col_sum = observed_sum_df.loc['col_sum'][0:-1]\n",
    "# Размер исходной таблицы\n",
    "r, c = observed_df.shape\n",
    "# Сумма частот\n",
    "N = observed_sum_df.row_sum[-1]\n",
    "# Таблица с модельными значениями\n",
    "expected_df = observed_df.copy(deep=True)\n",
    "expected_df.iloc[:] = 1\n",
    "expected_df = expected_df.mul(col_sum).mul(row_sum, axis=0).mul(1/N)\n",
    "\n",
    "expected_df"
   ]
  },
  {
   "cell_type": "code",
   "execution_count": 22,
   "metadata": {},
   "outputs": [
    {
     "data": {
      "text/plain": [
       "0.9544070774762995"
      ]
     },
     "execution_count": 22,
     "metadata": {},
     "output_type": "execute_result"
    }
   ],
   "source": [
    "# Расстояние Пирсона\n",
    "X2 = ((observed_df - expected_df).pow(2) \n",
    "      / expected_df\n",
    "     ).to_numpy().sum()\n",
    "\n",
    "X2"
   ]
  },
  {
   "cell_type": "code",
   "execution_count": 23,
   "metadata": {},
   "outputs": [
    {
     "data": {
      "text/plain": [
       "2"
      ]
     },
     "execution_count": 23,
     "metadata": {},
     "output_type": "execute_result"
    }
   ],
   "source": [
    "# Степени свободы\n",
    "df = (r - 1)*(c - 1)\n",
    "df"
   ]
  },
  {
   "cell_type": "code",
   "execution_count": 24,
   "metadata": {},
   "outputs": [
    {
     "data": {
      "text/plain": [
       "0.6205162173513056"
      ]
     },
     "execution_count": 24,
     "metadata": {},
     "output_type": "execute_result"
    }
   ],
   "source": [
    "# p-value\n",
    "p_value = 1 - ss.chi2.cdf(x=X2, df=df)\n",
    "\n",
    "p_value"
   ]
  },
  {
   "cell_type": "code",
   "execution_count": null,
   "metadata": {},
   "outputs": [],
   "source": []
  },
  {
   "cell_type": "code",
   "execution_count": 25,
   "metadata": {},
   "outputs": [],
   "source": [
    "# Свёрнуто в функцию\n",
    "def chi2_test(observed_df):\n",
    "    '''\n",
    "    Функция считает p-value для chi-squared independence test\n",
    "\n",
    "    Parameters\n",
    "    ----------\n",
    "    observed_df: pandas.DataFrame\n",
    "        Таблица с наблюдаемыми исходами\n",
    "\n",
    "    Returns\n",
    "    -------\n",
    "    p_value: float\n",
    "        Значение p-value для теста Хи-квадрат\n",
    "    '''\n",
    "    # Расширенная таблица с суммами по строкам и столбцам\n",
    "    observed_sum_df = observed_df.copy(deep=True)\n",
    "    observed_sum_df['row_sum'] = observed_sum_df.sum(axis=1)\n",
    "    observed_sum_df.loc['col_sum'] = observed_sum_df.sum(axis=0)\n",
    "\n",
    "    # Частоты по строкам и столбцам\n",
    "    row_sum = observed_sum_df.row_sum[0:-1]\n",
    "    col_sum = observed_sum_df.loc['col_sum'][0:-1]\n",
    "    # Размер исходной таблицы\n",
    "    r, c = observed_df.shape\n",
    "    # Сумма частот\n",
    "    N = observed_sum_df.row_sum[-1]\n",
    "    # Таблица с модельными значениями\n",
    "    expected_df = observed_df.copy(deep=True)\n",
    "    expected_df.iloc[:] = 1\n",
    "    expected_df = expected_df.mul(col_sum).mul(row_sum, axis=0).mul(1/N)\n",
    "\n",
    "    # Расстояние Пирсона\n",
    "    X2 = ((observed_df - expected_df).pow(2) \n",
    "          / expected_df\n",
    "         ).to_numpy().sum()\n",
    "    \n",
    "    # Степени свободы\n",
    "    df = (r - 1)*(c - 1)\n",
    "    \n",
    "    # p-value\n",
    "    p_value = 1 - ss.chi2.cdf(x=X2, df=df)\n",
    "    \n",
    "    return p_value"
   ]
  },
  {
   "cell_type": "code",
   "execution_count": 26,
   "metadata": {},
   "outputs": [
    {
     "data": {
      "text/html": [
       "<div>\n",
       "<style scoped>\n",
       "    .dataframe tbody tr th:only-of-type {\n",
       "        vertical-align: middle;\n",
       "    }\n",
       "\n",
       "    .dataframe tbody tr th {\n",
       "        vertical-align: top;\n",
       "    }\n",
       "\n",
       "    .dataframe thead th {\n",
       "        text-align: right;\n",
       "    }\n",
       "</style>\n",
       "<table border=\"1\" class=\"dataframe\">\n",
       "  <thead>\n",
       "    <tr style=\"text-align: right;\">\n",
       "      <th></th>\n",
       "      <th>М</th>\n",
       "      <th>Ж</th>\n",
       "    </tr>\n",
       "  </thead>\n",
       "  <tbody>\n",
       "    <tr>\n",
       "      <th>Тормозят</th>\n",
       "      <td>20</td>\n",
       "      <td>15</td>\n",
       "    </tr>\n",
       "    <tr>\n",
       "      <th>Притормаживают</th>\n",
       "      <td>11</td>\n",
       "      <td>12</td>\n",
       "    </tr>\n",
       "    <tr>\n",
       "      <th>Не тормозят</th>\n",
       "      <td>7</td>\n",
       "      <td>9</td>\n",
       "    </tr>\n",
       "  </tbody>\n",
       "</table>\n",
       "</div>"
      ],
      "text/plain": [
       "                 М   Ж\n",
       "Тормозят        20  15\n",
       "Притормаживают  11  12\n",
       "Не тормозят      7   9"
      ]
     },
     "execution_count": 26,
     "metadata": {},
     "output_type": "execute_result"
    }
   ],
   "source": [
    "# Исходная таблица\n",
    "categorical_1 = ['Тормозят', 'Притормаживают', 'Не тормозят']\n",
    "categorical_2 = ['М', 'Ж']\n",
    "observed_df=pd.DataFrame(\n",
    "    data= \n",
    "    [\n",
    "        [20, 15], \n",
    "        [11, 12], \n",
    "        [7, 9]\n",
    "    ],\n",
    "    index=categorical_1,\n",
    "    columns=categorical_2\n",
    ")\n",
    "\n",
    "observed_df"
   ]
  },
  {
   "cell_type": "code",
   "execution_count": 27,
   "metadata": {},
   "outputs": [
    {
     "data": {
      "text/plain": [
       "0.6205162173513056"
      ]
     },
     "execution_count": 27,
     "metadata": {},
     "output_type": "execute_result"
    }
   ],
   "source": [
    "# p-value\n",
    "chi2_test(observed_df)"
   ]
  },
  {
   "cell_type": "code",
   "execution_count": 28,
   "metadata": {},
   "outputs": [
    {
     "data": {
      "text/plain": [
       "0.6205162173513055"
      ]
     },
     "execution_count": 28,
     "metadata": {},
     "output_type": "execute_result"
    }
   ],
   "source": [
    "# Проверка\n",
    "ss.chi2_contingency(observed_df)[1]"
   ]
  },
  {
   "cell_type": "code",
   "execution_count": null,
   "metadata": {},
   "outputs": [],
   "source": []
  },
  {
   "cell_type": "code",
   "execution_count": 29,
   "metadata": {},
   "outputs": [
    {
     "data": {
      "text/plain": [
       "(2.8239706434502656,\n",
       " 0.24365906101675808,\n",
       " 2,\n",
       " array([[19.98395722, 17.01604278],\n",
       "        [72.9144385 , 62.0855615 ],\n",
       "        [ 8.10160428,  6.89839572]]))"
      ]
     },
     "execution_count": 29,
     "metadata": {},
     "output_type": "execute_result"
    }
   ],
   "source": [
    "# Пример №2\n",
    "# Таблица сопржённости с поведением пользователей после рекламной кампании\n",
    "contingency_table = pd.DataFrame({\n",
    "    'Men': [21, 75, 5],\n",
    "    'Wmen': [16, 60, 10]})\n",
    "contingency_table\n",
    "# 0 - Увеличивается сумма покупки\n",
    "# 1 - Не меняется сумма покупки\n",
    "# 3 - Уменьшается сумма покупки\n",
    "\n",
    "# Является ли рекламная компания эффективной?\n",
    "ss.chi2_contingency(contingency_table)\n",
    "# => не является"
   ]
  }
 ],
 "metadata": {
  "kernelspec": {
   "display_name": "Python 3 (ipykernel)",
   "language": "python",
   "name": "python3"
  },
  "language_info": {
   "codemirror_mode": {
    "name": "ipython",
    "version": 3
   },
   "file_extension": ".py",
   "mimetype": "text/x-python",
   "name": "python",
   "nbconvert_exporter": "python",
   "pygments_lexer": "ipython3",
   "version": "3.11.4"
  }
 },
 "nbformat": 4,
 "nbformat_minor": 4
}
